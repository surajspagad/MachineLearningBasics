{
 "cells": [
  {
   "cell_type": "markdown",
   "source": [
    "# Web scraping"
   ],
   "metadata": {}
  },
  {
   "cell_type": "markdown",
   "source": [
    "## The goal of this program is to read data from \"https://uscar-price.surge.sh/\", look for errorneous data, fix them if possible, and store the cleaned data in a '.csv' format. "
   ],
   "metadata": {}
  },
  {
   "cell_type": "markdown",
   "source": [
    "## Import necessary libraries"
   ],
   "metadata": {}
  },
  {
   "cell_type": "code",
   "execution_count": 1,
   "source": [
    "from bs4 import BeautifulSoup\r\n",
    "from requests import get\r\n",
    "import pandas as pd\r\n",
    "import numpy as np\r\n",
    "import pickle\r\n",
    "import re"
   ],
   "outputs": [],
   "metadata": {}
  },
  {
   "cell_type": "markdown",
   "source": [
    "## Extract HTML content from the url"
   ],
   "metadata": {}
  },
  {
   "cell_type": "code",
   "execution_count": 2,
   "source": [
    "url = \"https://uscar-price.surge.sh/\"\r\n",
    "\r\n",
    "html_content = get(url).content\r\n",
    "soup = BeautifulSoup(html_content)"
   ],
   "outputs": [],
   "metadata": {}
  },
  {
   "cell_type": "markdown",
   "source": [
    "#### Have a look at the html_contents extracted. A more comprehensive look at the contents can be done by viewing page source code on the web browser."
   ],
   "metadata": {}
  },
  {
   "cell_type": "code",
   "execution_count": 3,
   "source": [
    "print(soup.prettify()[:3000])"
   ],
   "outputs": [
    {
     "output_type": "stream",
     "name": "stdout",
     "text": [
      "<html>\n",
      " <head>\n",
      "  <title>\n",
      "   USA-car-price\n",
      "  </title>\n",
      "  <style>\n",
      "   .new-table {\n",
      "  display: block;\n",
      "  font-family: sans-serif;\n",
      "  overflow-x: scroll;\n",
      "  width: auto;\n",
      "}\n",
      "\n",
      "\n",
      "table {\n",
      "  background-color: #808f7c;\n",
      "}\n",
      "  th {\n",
      "    text-align: center;\n",
      "    background-color: rgb(119, 176, 175);\n",
      "    font-weight: normal;\n",
      "    color: white;\n",
      "    padding: 20px 30px;\n",
      "\n",
      "  }\n",
      "  td {\n",
      "    background-color: rgb(233, 650, 830);\n",
      "\n",
      "    /*background-color: #9b9aa1;*/\n",
      "    padding: 20px 30px;\n",
      "    color: rgb(111, 111, 111);\n",
      "  }\n",
      "body {\n",
      "    background-color: #fff;\n",
      "    margin: 0;\n",
      "    padding: 0;\n",
      "    font-family: 'Oxygen', sans-serif;\n",
      "    color: #444;\n",
      "    font-size: 15px;\n",
      "    line-height: 18px;\n",
      "    font-weight: 300;\n",
      "}\n",
      "\n",
      "header {\n",
      "    margin: 0;\n",
      "    /*background: #505451;*/\n",
      "    background: linear-gradient(to bottom, #666699 0%, #669999 100%);\n",
      "    font-family: sans-serif;\n",
      "    font-style: oblique\n",
      "    height: 65px;\n",
      "    padding: 2px;\n",
      "}\n",
      "\n",
      "article {\n",
      "    margin: 40px 30px;\n",
      "}\n",
      "\n",
      "h1 {\n",
      "    color: #fff;\n",
      "    font-weight: 700;\n",
      "    font-family: sans-serif;\n",
      "    /*font-family: 'Open Sans Condensed', sans-serif;*/\n",
      "    padding: 10px 0 0 30px;\n",
      "    letter-spacing: 2px;\n",
      "    /*text-transform: uppercase;*/\n",
      "    margin: 0;\n",
      "    letter-spacing: 1px;\n",
      "    font-size: 2.3em;\n",
      "    line-height: 44px;\n",
      "}\n",
      "\n",
      "h2 { margin: 20px 0 10px 0;\n",
      "  font-family: sans-serif;\n",
      "    font-weight: 600;\n",
      "}\n",
      "h3 { margin: 20px 0 10px 0;\n",
      "  font-family: sans-serif;\n",
      "    font-weight: 500;\n",
      "}\n",
      "h4{\n",
      "  font-family: sans-serif;\n",
      "}\n",
      "\n",
      "\n",
      "p {\n",
      "    margin: 20px 0 5px 0;\n",
      "    font-family: sans-serif;\n",
      "}\n",
      "#table-scroll {\n",
      "  height:650px;\n",
      "  margin-top:20px;\n",
      "  width: 100%;\n",
      "}\n",
      "#table-wrapper table{\n",
      "  width: 100%;\n",
      "  height: 100%;\n",
      "  white-space: nowrap ;\n",
      "  overflow-x: scroll;\n",
      "}\n",
      "  </style>\n",
      " </head>\n",
      " <body>\n",
      "  <header>\n",
      "   <h1>\n",
      "    USA-Car-Price\n",
      "   </h1>\n",
      "  </header>\n",
      "  <article>\n",
      "   <h2>\n",
      "    This Table contains the Dataset for Car price in USA.\n",
      "   </h2>\n",
      "   <h3>\n",
      "    Scrape the given rows into a Dataframe\n",
      "   </h3>\n",
      "   <h4>\n",
      "    Note: if there is no data it means it's a NULL value.\n",
      "   </h4>\n",
      "   <div id=\"table-wrapper\">\n",
      "    <div id=\"table-scroll\">\n",
      "     <table class=\"new-table\">\n",
      "      <thead>\n",
      "       <tr>\n",
      "        <th>\n",
      "         price\n",
      "        </th>\n",
      "        <th>\n",
      "         brand\n",
      "        </th>\n",
      "        <th>\n",
      "         model\n",
      "        </th>\n",
      "        <th>\n",
      "         year\n",
      "        </th>\n",
      "        <th>\n",
      "         title_status\n",
      "        </th>\n",
      "        <th>\n",
      "         mileage\n",
      "        </th>\n",
      "        <th>\n",
      "         color\n",
      "        </th>\n",
      "        <th>\n",
      "         vin\n",
      "        </th>\n",
      "        <th>\n",
      "         lot\n",
      "        </th>\n",
      "        <th>\n",
      "         state\n",
      "        </th>\n",
      "        <th>\n",
      "         country\n",
      "        </th>\n",
      "        <th>\n",
      "         condition\n",
      "        </th>\n",
      "       </tr>\n",
      "      </thead>\n",
      "      <tbody>\n",
      "       <tr>\n",
      "        <td>\n",
      "         6300\n",
      "        </td>\n",
      "        <td>\n",
      "         toyota\n",
      "        </td>\n",
      "        <td>\n",
      "         cruiser\n",
      "        </td>\n",
      "        <td>\n",
      "         2008\n",
      "        </td>\n",
      "        <td>\n",
      "         clean vehicle\n",
      "        </td>\n",
      "        <td>\n",
      "         274117.0\n",
      "      \n"
     ]
    }
   ],
   "metadata": {}
  },
  {
   "cell_type": "markdown",
   "source": [
    "#### Finding tags for columns and data"
   ],
   "metadata": {}
  },
  {
   "cell_type": "code",
   "execution_count": 4,
   "source": [
    "# From the page source we can uniquely identify the required table belongs to class 'new-table'. So extract it.\r\n",
    "cars_table = soup.find('table', attrs={'class':'new-table'})\r\n",
    "\r\n",
    "# Similarly, inside the table, the headers can be found in 'thead' tag.\r\n",
    "headings_tr = cars_table.thead.tr\r\n",
    "\r\n",
    "# The data can be found in 'tbody' tag inside the table.\r\n",
    "body_tr = cars_table.tbody.find_all('tr')\r\n"
   ],
   "outputs": [],
   "metadata": {}
  },
  {
   "cell_type": "code",
   "execution_count": 5,
   "source": [
    "def return_text(obj):\r\n",
    "    if not obj: return None                                     #If obj is None then, return None\r\n",
    "    return None if not obj.text.strip() else obj.text.strip()   #Get text from the obj and remove extra spaces, if any, and return the text if not blank, or else return None"
   ],
   "outputs": [],
   "metadata": {}
  },
  {
   "cell_type": "markdown",
   "source": [
    "#### Store column names in a list and prepare a dictionary to hold the data where the key is the column name."
   ],
   "metadata": {}
  },
  {
   "cell_type": "code",
   "execution_count": 6,
   "source": [
    "col_names = []\r\n",
    "data = {}\r\n",
    "\r\n",
    "for th in headings_tr.find_all('th'):\r\n",
    "    col = return_text(th)\r\n",
    "    col_names.append(col)\r\n",
    "    if col: data[col] = []"
   ],
   "outputs": [],
   "metadata": {}
  },
  {
   "cell_type": "code",
   "execution_count": 7,
   "source": [
    "# Fill-in the 'data' dictionary with actual data stored as html in 'body_tr'\r\n",
    "for tr in body_tr:\r\n",
    "    tds = tr.find_all('td')\r\n",
    "    \r\n",
    "    for idx,col in enumerate(col_names):\r\n",
    "        data[col].append(return_text(tds[idx]))"
   ],
   "outputs": [],
   "metadata": {}
  },
  {
   "cell_type": "markdown",
   "source": [
    "## Convert extracted data into a DataFrame"
   ],
   "metadata": {}
  },
  {
   "cell_type": "code",
   "execution_count": 8,
   "source": [
    "df_data = pd.DataFrame(data)"
   ],
   "outputs": [],
   "metadata": {}
  },
  {
   "cell_type": "markdown",
   "source": [
    "## Explore the data further to look for errorneous data, if any."
   ],
   "metadata": {}
  },
  {
   "cell_type": "code",
   "execution_count": 9,
   "source": [
    "# Check if there are any duplicate observations.\r\n",
    "df_data.duplicated().sum()"
   ],
   "outputs": [
    {
     "output_type": "execute_result",
     "data": {
      "text/plain": [
       "0"
      ]
     },
     "metadata": {},
     "execution_count": 9
    }
   ],
   "metadata": {}
  },
  {
   "cell_type": "code",
   "execution_count": 10,
   "source": [
    "df_data.head(8)"
   ],
   "outputs": [
    {
     "output_type": "execute_result",
     "data": {
      "text/html": [
       "<div>\n",
       "<style scoped>\n",
       "    .dataframe tbody tr th:only-of-type {\n",
       "        vertical-align: middle;\n",
       "    }\n",
       "\n",
       "    .dataframe tbody tr th {\n",
       "        vertical-align: top;\n",
       "    }\n",
       "\n",
       "    .dataframe thead th {\n",
       "        text-align: right;\n",
       "    }\n",
       "</style>\n",
       "<table border=\"1\" class=\"dataframe\">\n",
       "  <thead>\n",
       "    <tr style=\"text-align: right;\">\n",
       "      <th></th>\n",
       "      <th>price</th>\n",
       "      <th>brand</th>\n",
       "      <th>model</th>\n",
       "      <th>year</th>\n",
       "      <th>title_status</th>\n",
       "      <th>mileage</th>\n",
       "      <th>color</th>\n",
       "      <th>vin</th>\n",
       "      <th>lot</th>\n",
       "      <th>state</th>\n",
       "      <th>country</th>\n",
       "      <th>condition</th>\n",
       "    </tr>\n",
       "  </thead>\n",
       "  <tbody>\n",
       "    <tr>\n",
       "      <th>0</th>\n",
       "      <td>6300</td>\n",
       "      <td>toyota</td>\n",
       "      <td>cruiser</td>\n",
       "      <td>2008</td>\n",
       "      <td>clean vehicle</td>\n",
       "      <td>274117.0</td>\n",
       "      <td>black</td>\n",
       "      <td>jtezu11f88k007763</td>\n",
       "      <td>159348797</td>\n",
       "      <td>new jersey</td>\n",
       "      <td>usa</td>\n",
       "      <td>10 days left</td>\n",
       "    </tr>\n",
       "    <tr>\n",
       "      <th>1</th>\n",
       "      <td>2899</td>\n",
       "      <td>ford</td>\n",
       "      <td>se</td>\n",
       "      <td>2011</td>\n",
       "      <td>clean vehicle</td>\n",
       "      <td>None</td>\n",
       "      <td>silver</td>\n",
       "      <td>2fmdk3gc4bbb02217</td>\n",
       "      <td>166951262</td>\n",
       "      <td>tennessee</td>\n",
       "      <td>usa</td>\n",
       "      <td>6 days left</td>\n",
       "    </tr>\n",
       "    <tr>\n",
       "      <th>2</th>\n",
       "      <td>5350</td>\n",
       "      <td>dodge</td>\n",
       "      <td>mpv</td>\n",
       "      <td>2018</td>\n",
       "      <td>clean vehicle</td>\n",
       "      <td>39590.0</td>\n",
       "      <td>silver</td>\n",
       "      <td>3c4pdcgg5jt346413</td>\n",
       "      <td>167655728</td>\n",
       "      <td>georgia</td>\n",
       "      <td>usa</td>\n",
       "      <td>2 days left</td>\n",
       "    </tr>\n",
       "    <tr>\n",
       "      <th>3</th>\n",
       "      <td>25000</td>\n",
       "      <td>ford</td>\n",
       "      <td>door</td>\n",
       "      <td>2014</td>\n",
       "      <td>clean vehicle</td>\n",
       "      <td>64146.0</td>\n",
       "      <td>blue</td>\n",
       "      <td>1ftfw1et4efc23745</td>\n",
       "      <td>167753855</td>\n",
       "      <td>virginia</td>\n",
       "      <td>usa</td>\n",
       "      <td>22 hours left</td>\n",
       "    </tr>\n",
       "    <tr>\n",
       "      <th>4</th>\n",
       "      <td>27700</td>\n",
       "      <td>chevrolet</td>\n",
       "      <td>1500</td>\n",
       "      <td>2018</td>\n",
       "      <td>clean vehicle</td>\n",
       "      <td>6654.0</td>\n",
       "      <td>red</td>\n",
       "      <td>3gcpcrec2jg473991</td>\n",
       "      <td>167763266</td>\n",
       "      <td>florida</td>\n",
       "      <td>usa</td>\n",
       "      <td>22 hours left</td>\n",
       "    </tr>\n",
       "    <tr>\n",
       "      <th>5</th>\n",
       "      <td>5700</td>\n",
       "      <td>dodge</td>\n",
       "      <td>mpv</td>\n",
       "      <td>2018</td>\n",
       "      <td>clean vehicle</td>\n",
       "      <td>45561.0</td>\n",
       "      <td>white</td>\n",
       "      <td>2c4rdgeg9jr237989</td>\n",
       "      <td>167655771</td>\n",
       "      <td>texas</td>\n",
       "      <td>usa</td>\n",
       "      <td>2 days left</td>\n",
       "    </tr>\n",
       "    <tr>\n",
       "      <th>6</th>\n",
       "      <td>7300</td>\n",
       "      <td>chevrolet</td>\n",
       "      <td>pk</td>\n",
       "      <td>2010</td>\n",
       "      <td>clean vehicle</td>\n",
       "      <td>149050.0</td>\n",
       "      <td>black</td>\n",
       "      <td>1gcsksea1az121133</td>\n",
       "      <td>167753872</td>\n",
       "      <td>georgia</td>\n",
       "      <td>usa</td>\n",
       "      <td>22 hours left</td>\n",
       "    </tr>\n",
       "    <tr>\n",
       "      <th>7</th>\n",
       "      <td>13350</td>\n",
       "      <td>gmc</td>\n",
       "      <td>door</td>\n",
       "      <td>2017</td>\n",
       "      <td>clean vehicle</td>\n",
       "      <td>23525.0</td>\n",
       "      <td>gray</td>\n",
       "      <td>1gks2gkc3hr326762</td>\n",
       "      <td>167692494</td>\n",
       "      <td>california</td>\n",
       "      <td>usa</td>\n",
       "      <td>20 hours left</td>\n",
       "    </tr>\n",
       "  </tbody>\n",
       "</table>\n",
       "</div>"
      ],
      "text/plain": [
       "   price      brand    model  year   title_status   mileage   color  \\\n",
       "0   6300     toyota  cruiser  2008  clean vehicle  274117.0   black   \n",
       "1   2899       ford       se  2011  clean vehicle      None  silver   \n",
       "2   5350      dodge      mpv  2018  clean vehicle   39590.0  silver   \n",
       "3  25000       ford     door  2014  clean vehicle   64146.0    blue   \n",
       "4  27700  chevrolet     1500  2018  clean vehicle    6654.0     red   \n",
       "5   5700      dodge      mpv  2018  clean vehicle   45561.0   white   \n",
       "6   7300  chevrolet       pk  2010  clean vehicle  149050.0   black   \n",
       "7  13350        gmc     door  2017  clean vehicle   23525.0    gray   \n",
       "\n",
       "                 vin        lot       state country      condition  \n",
       "0  jtezu11f88k007763  159348797  new jersey     usa   10 days left  \n",
       "1  2fmdk3gc4bbb02217  166951262   tennessee     usa    6 days left  \n",
       "2  3c4pdcgg5jt346413  167655728     georgia     usa    2 days left  \n",
       "3  1ftfw1et4efc23745  167753855    virginia     usa  22 hours left  \n",
       "4  3gcpcrec2jg473991  167763266     florida     usa  22 hours left  \n",
       "5  2c4rdgeg9jr237989  167655771       texas     usa    2 days left  \n",
       "6  1gcsksea1az121133  167753872     georgia     usa  22 hours left  \n",
       "7  1gks2gkc3hr326762  167692494  california     usa  20 hours left  "
      ]
     },
     "metadata": {},
     "execution_count": 10
    }
   ],
   "metadata": {}
  },
  {
   "cell_type": "code",
   "execution_count": 11,
   "source": [
    "df_data.info()"
   ],
   "outputs": [
    {
     "output_type": "stream",
     "name": "stdout",
     "text": [
      "<class 'pandas.core.frame.DataFrame'>\n",
      "RangeIndex: 2499 entries, 0 to 2498\n",
      "Data columns (total 12 columns):\n",
      "price           2499 non-null object\n",
      "brand           2499 non-null object\n",
      "model           2499 non-null object\n",
      "year            2499 non-null object\n",
      "title_status    2499 non-null object\n",
      "mileage         2309 non-null object\n",
      "color           2451 non-null object\n",
      "vin             2499 non-null object\n",
      "lot             2499 non-null object\n",
      "state           2499 non-null object\n",
      "country         2499 non-null object\n",
      "condition       2499 non-null object\n",
      "dtypes: object(12)\n",
      "memory usage: 234.4+ KB\n"
     ]
    }
   ],
   "metadata": {}
  },
  {
   "cell_type": "code",
   "execution_count": 12,
   "source": [
    "df_data.describe()"
   ],
   "outputs": [
    {
     "output_type": "execute_result",
     "data": {
      "text/html": [
       "<div>\n",
       "<style scoped>\n",
       "    .dataframe tbody tr th:only-of-type {\n",
       "        vertical-align: middle;\n",
       "    }\n",
       "\n",
       "    .dataframe tbody tr th {\n",
       "        vertical-align: top;\n",
       "    }\n",
       "\n",
       "    .dataframe thead th {\n",
       "        text-align: right;\n",
       "    }\n",
       "</style>\n",
       "<table border=\"1\" class=\"dataframe\">\n",
       "  <thead>\n",
       "    <tr style=\"text-align: right;\">\n",
       "      <th></th>\n",
       "      <th>price</th>\n",
       "      <th>brand</th>\n",
       "      <th>model</th>\n",
       "      <th>year</th>\n",
       "      <th>title_status</th>\n",
       "      <th>mileage</th>\n",
       "      <th>color</th>\n",
       "      <th>vin</th>\n",
       "      <th>lot</th>\n",
       "      <th>state</th>\n",
       "      <th>country</th>\n",
       "      <th>condition</th>\n",
       "    </tr>\n",
       "  </thead>\n",
       "  <tbody>\n",
       "    <tr>\n",
       "      <th>count</th>\n",
       "      <td>2499</td>\n",
       "      <td>2499</td>\n",
       "      <td>2499</td>\n",
       "      <td>2499</td>\n",
       "      <td>2499</td>\n",
       "      <td>2309</td>\n",
       "      <td>2451</td>\n",
       "      <td>2499</td>\n",
       "      <td>2499</td>\n",
       "      <td>2499</td>\n",
       "      <td>2499</td>\n",
       "      <td>2499</td>\n",
       "    </tr>\n",
       "    <tr>\n",
       "      <th>unique</th>\n",
       "      <td>790</td>\n",
       "      <td>35</td>\n",
       "      <td>127</td>\n",
       "      <td>30</td>\n",
       "      <td>2</td>\n",
       "      <td>2259</td>\n",
       "      <td>49</td>\n",
       "      <td>2495</td>\n",
       "      <td>2495</td>\n",
       "      <td>44</td>\n",
       "      <td>2</td>\n",
       "      <td>47</td>\n",
       "    </tr>\n",
       "    <tr>\n",
       "      <th>top</th>\n",
       "      <td>0</td>\n",
       "      <td>ford</td>\n",
       "      <td>door</td>\n",
       "      <td>2019</td>\n",
       "      <td>clean vehicle</td>\n",
       "      <td>1.0</td>\n",
       "      <td>white</td>\n",
       "      <td>3gcrkse37ag234620</td>\n",
       "      <td>167781794</td>\n",
       "      <td>pennsylvania</td>\n",
       "      <td>usa</td>\n",
       "      <td>2 days left</td>\n",
       "    </tr>\n",
       "    <tr>\n",
       "      <th>freq</th>\n",
       "      <td>43</td>\n",
       "      <td>1232</td>\n",
       "      <td>651</td>\n",
       "      <td>892</td>\n",
       "      <td>2336</td>\n",
       "      <td>10</td>\n",
       "      <td>697</td>\n",
       "      <td>2</td>\n",
       "      <td>2</td>\n",
       "      <td>299</td>\n",
       "      <td>2492</td>\n",
       "      <td>832</td>\n",
       "    </tr>\n",
       "  </tbody>\n",
       "</table>\n",
       "</div>"
      ],
      "text/plain": [
       "       price brand model  year   title_status mileage  color  \\\n",
       "count   2499  2499  2499  2499           2499    2309   2451   \n",
       "unique   790    35   127    30              2    2259     49   \n",
       "top        0  ford  door  2019  clean vehicle     1.0  white   \n",
       "freq      43  1232   651   892           2336      10    697   \n",
       "\n",
       "                      vin        lot         state country    condition  \n",
       "count                2499       2499          2499    2499         2499  \n",
       "unique               2495       2495            44       2           47  \n",
       "top     3gcrkse37ag234620  167781794  pennsylvania     usa  2 days left  \n",
       "freq                    2          2           299    2492          832  "
      ]
     },
     "metadata": {},
     "execution_count": 12
    }
   ],
   "metadata": {}
  },
  {
   "cell_type": "markdown",
   "source": [
    "Few observations from 'df_data.head()', 'df_data.info()' and 'df_data.describe()':\r\n",
    "1. \"brand\", \"model\", \"title_status\", \"color\", \"vin\", \"state\", \"country\" and \"condition\" are text data, and therefore it can be better represented using str data type.\r\n",
    "2. \"price\", \"year\" and \"lot\" are integers, and hence can be better represented with int data type. Similarly, \"mileage\" can be better represented with float data type.\r\n",
    "3. There are some null values in \"mileage\" and \"color\" columns.\r\n",
    "4. vin is unique for most data\r\n",
    "5. There are 35 \"brands\", 127 categories in \"model\", 2 categories under \"title_status\", 49 different \"color\", 44 states and 2 countries. This is a preliminary observation. \r\n",
    "    This may change when we take a deeper look into data."
   ],
   "metadata": {}
  },
  {
   "cell_type": "markdown",
   "source": [
    "### Type-cast columns"
   ],
   "metadata": {}
  },
  {
   "cell_type": "code",
   "execution_count": 13,
   "source": [
    "str_type = ['brand', 'model', 'title_status', 'color', 'vin', 'state', 'country', 'condition']\r\n",
    "int_type = ['price', 'year', 'lot']\r\n",
    "float_type = ['mileage']\r\n",
    "\r\n",
    "df_data[str_type] = df_data[str_type].astype(str).replace(['None', 'nan'], np.nan)\r\n",
    "df_data[int_type] = df_data[int_type].astype(int)\r\n",
    "df_data[float_type] = df_data[float_type].astype(float)"
   ],
   "outputs": [],
   "metadata": {}
  },
  {
   "cell_type": "markdown",
   "source": [
    "## Analyze features individually and perform cleaning, if required"
   ],
   "metadata": {}
  },
  {
   "cell_type": "code",
   "execution_count": 14,
   "source": [
    "print('brand: ',df_data.brand.unique())"
   ],
   "outputs": [
    {
     "output_type": "stream",
     "name": "stdout",
     "text": [
      "brand:  ['toyota' 'ford' 'dodge' 'chevrolet' 'gmc' 'chrysler' 'kia' 'buick'\n",
      " 'infiniti' 'mercedes-benz' 'jeep' 'bmw' 'cadillac' 'dogde' 'chervolet'\n",
      " 'frod' 'hyundai' 'mazda' 'honda' 'geep' 'heartland' 'jaguar' 'acura'\n",
      " 'harley-davidson' 'hundai' 'audi' 'hinda' 'lincoln' 'lexus' 'nissan'\n",
      " 'land' 'maserati' 'peterbilt' 'ram' 'nisan']\n"
     ]
    }
   ],
   "metadata": {}
  },
  {
   "cell_type": "markdown",
   "source": [
    "There are a few spelling errors in \"brand\" column"
   ],
   "metadata": {}
  },
  {
   "cell_type": "markdown",
   "source": [
    "### Brand name cleaning"
   ],
   "metadata": {}
  },
  {
   "cell_type": "code",
   "execution_count": 15,
   "source": [
    "correct_names = ['toyota', 'ford', 'dodge', 'chevrolet', 'gmc', 'chrysler', 'kia', 'buick', 'infiniti', \r\n",
    "                'mercedes-benz', 'jeep', 'bmw', 'cadillac', 'hyundai', 'mazda', 'honda', 'heartland', \r\n",
    "                'jaguar', 'acura', 'harley-davidson', 'audi', 'lincoln', 'lexus', 'nissan', 'land',\r\n",
    "                'maserati', 'peterbilt', 'ram']\r\n",
    "\r\n",
    "incorrect_names = [bname for bname in df_data.brand.unique() if not bname in correct_names]\r\n",
    "\r\n",
    "print(incorrect_names)"
   ],
   "outputs": [
    {
     "output_type": "stream",
     "name": "stdout",
     "text": [
      "['dogde', 'chervolet', 'frod', 'geep', 'hundai', 'hinda', 'nisan']\n"
     ]
    }
   ],
   "metadata": {}
  },
  {
   "cell_type": "code",
   "execution_count": 16,
   "source": [
    "df_data.loc[df_data['brand']=='dogde','brand'] = 'dodge'\r\n",
    "df_data.loc[df_data['brand']=='chervolet','brand'] = 'chevrolet'\r\n",
    "df_data.loc[df_data['brand']=='frod','brand'] = 'ford'\r\n",
    "df_data.loc[df_data['brand']=='geep','brand'] = 'jeep'\r\n",
    "df_data.loc[df_data['brand']=='hundai','brand'] = 'hyundai'\r\n",
    "df_data.loc[df_data['brand']=='hinda','brand'] = 'honda'\r\n",
    "df_data.loc[df_data['brand']=='nisan','brand'] = 'nissan'"
   ],
   "outputs": [],
   "metadata": {}
  },
  {
   "cell_type": "code",
   "execution_count": 17,
   "source": [
    "df_data.brand.unique()"
   ],
   "outputs": [
    {
     "output_type": "execute_result",
     "data": {
      "text/plain": [
       "array(['toyota', 'ford', 'dodge', 'chevrolet', 'gmc', 'chrysler', 'kia',\n",
       "       'buick', 'infiniti', 'mercedes-benz', 'jeep', 'bmw', 'cadillac',\n",
       "       'hyundai', 'mazda', 'honda', 'heartland', 'jaguar', 'acura',\n",
       "       'harley-davidson', 'audi', 'lincoln', 'lexus', 'nissan', 'land',\n",
       "       'maserati', 'peterbilt', 'ram'], dtype=object)"
      ]
     },
     "metadata": {},
     "execution_count": 17
    }
   ],
   "metadata": {}
  },
  {
   "cell_type": "markdown",
   "source": [
    "### Colors"
   ],
   "metadata": {}
  },
  {
   "cell_type": "code",
   "execution_count": 18,
   "source": [
    "df_data.color.unique()"
   ],
   "outputs": [
    {
     "output_type": "execute_result",
     "data": {
      "text/plain": [
       "array(['black', 'silver', 'blue', 'red', 'white', 'gray', 'orange',\n",
       "       'brown', nan, 'no_color', 'gold', 'charcoal', 'turquoise', 'beige',\n",
       "       'green', 'dark blue', 'maroon', 'phantom black', 'yellow',\n",
       "       'color:', 'light blue', 'toreador red', 'bright white clearcoat',\n",
       "       'billet silver metallic clearcoat', 'black clearcoat',\n",
       "       'jazz blue pearlcoat', 'purple',\n",
       "       'ruby red metallic tinted clearcoat', 'triple yellow tri-coat',\n",
       "       'competition orange', 'off-white', 'shadow black',\n",
       "       'magnetic metallic', 'ingot silver metallic', 'ruby red',\n",
       "       'royal crimson metallic tinted clearcoat', 'kona blue metallic',\n",
       "       'oxford white', 'lightning blue', 'ingot silver',\n",
       "       'white platinum tri-coat metallic', 'guard',\n",
       "       'tuxedo black metallic', 'tan', 'burgundy', 'super black',\n",
       "       'cayenne red', 'morningsky blue', 'pearl white', 'glacier white'],\n",
       "      dtype=object)"
      ]
     },
     "metadata": {},
     "execution_count": 18
    }
   ],
   "metadata": {}
  },
  {
   "cell_type": "markdown",
   "source": [
    "Let us simplify the colors to the basic colors: ['blue', 'black', 'yellow', 'red', 'white', 'silver', 'orange']. All other colors (including null values) will be categorized as 'others'."
   ],
   "metadata": {}
  },
  {
   "cell_type": "code",
   "execution_count": 19,
   "source": [
    "basic_colors = ['blue', 'black', 'yellow', 'red', 'white', 'silver', 'orange']"
   ],
   "outputs": [],
   "metadata": {}
  },
  {
   "cell_type": "code",
   "execution_count": 20,
   "source": [
    "def replace_color(str_color, basic_colors=basic_colors):\r\n",
    "    for color in basic_colors:\r\n",
    "        if color in str_color:\r\n",
    "            return color\r\n",
    "    return 'others'"
   ],
   "outputs": [],
   "metadata": {}
  },
  {
   "cell_type": "code",
   "execution_count": 21,
   "source": [
    "df_data['color'] = df_data['color'].apply(lambda x:replace_color(str(x)))"
   ],
   "outputs": [],
   "metadata": {}
  },
  {
   "cell_type": "code",
   "execution_count": 22,
   "source": [
    "df_data['color'].unique()"
   ],
   "outputs": [
    {
     "output_type": "execute_result",
     "data": {
      "text/plain": [
       "array(['black', 'silver', 'blue', 'red', 'white', 'others', 'orange',\n",
       "       'yellow'], dtype=object)"
      ]
     },
     "metadata": {},
     "execution_count": 22
    }
   ],
   "metadata": {}
  },
  {
   "cell_type": "code",
   "execution_count": null,
   "source": [],
   "outputs": [],
   "metadata": {}
  },
  {
   "cell_type": "markdown",
   "source": [
    "### Manipulate 'condition' column. Convert everything to minutes."
   ],
   "metadata": {}
  },
  {
   "cell_type": "code",
   "execution_count": 23,
   "source": [
    "df_data['condition'].unique()"
   ],
   "outputs": [
    {
     "output_type": "execute_result",
     "data": {
      "text/plain": [
       "array(['10 days left', '6 days left', '2 days left', '22 hours left',\n",
       "       '20 hours left', '19 hours left', '3 days left', '21 hours left',\n",
       "       '17 hours left', '2 hours left', '3 hours left', '34 minutes',\n",
       "       '16 hours left', '18 hours left', '1 days left', '32 minutes',\n",
       "       '14 hours left', '5 hours left', '4 days left', '9 days left',\n",
       "       '23 hours left', '8 days left', '7 days left', '5 days left',\n",
       "       '9 minutes', '1 minutes', '7 hours left', '16 minutes',\n",
       "       '6 hours left', '1 hours left', 'Listing Expired', '13 days left',\n",
       "       '24 hours left', '15 hours left', '53 minutes', '27 minutes',\n",
       "       '12 days left', '15 days left', '30 minutes', '29 minutes',\n",
       "       '28 minutes', '48 minutes', '11 days left', '4 hours left',\n",
       "       '47 minutes', '12 hours left', '36 minutes'], dtype=object)"
      ]
     },
     "metadata": {},
     "execution_count": 23
    }
   ],
   "metadata": {}
  },
  {
   "cell_type": "code",
   "execution_count": 24,
   "source": [
    "def convert_to_mins(condition):\r\n",
    "    def str_to_num(strnum, cnt_err):\r\n",
    "        try:\r\n",
    "            num = int(lt_words[0])\r\n",
    "            return num, cnt_err\r\n",
    "        except ValueError as ex:\r\n",
    "            cnt_err += 1\r\n",
    "            return None, cnt_err\r\n",
    "    cnt_err = 0\r\n",
    "    if condition:\r\n",
    "        temp = 0\r\n",
    "        mins = 0\r\n",
    "        \r\n",
    "        lt_words = re.findall(r'(\\w+)', condition)\r\n",
    "        if lt_words:\r\n",
    "            if len(lt_words)>=2:\r\n",
    "                if lt_words[1].strip() == 'days':\r\n",
    "                    temp, cnt_err = str_to_num(lt_words[0].strip(),cnt_err)\r\n",
    "                    mins = temp*24*60\r\n",
    "                elif lt_words[1].strip() == 'hours':\r\n",
    "                    temp, cnt_err = str_to_num(lt_words[0].strip(),cnt_err)\r\n",
    "                    mins = temp*60\r\n",
    "                elif lt_words[1].strip() == 'minutes':\r\n",
    "                    mins, cnt_err = str_to_num(lt_words[0],cnt_err)\r\n",
    "                elif lt_words[1] == 'Expired':\r\n",
    "                    mins = 0\r\n",
    "        return mins\r\n",
    "    return None\r\n"
   ],
   "outputs": [],
   "metadata": {}
  },
  {
   "cell_type": "code",
   "execution_count": 25,
   "source": [
    "df_data['condition'] = df_data['condition'].apply(lambda x:convert_to_mins(x))"
   ],
   "outputs": [],
   "metadata": {}
  },
  {
   "cell_type": "code",
   "execution_count": 26,
   "source": [
    "df_data['condition'].unique()"
   ],
   "outputs": [
    {
     "output_type": "execute_result",
     "data": {
      "text/plain": [
       "array([14400,  8640,  2880,  1320,  1200,  1140,  4320,  1260,  1020,\n",
       "         120,   180,    34,   960,  1080,  1440,    32,   840,   300,\n",
       "        5760, 12960,  1380, 11520, 10080,  7200,     9,     1,   420,\n",
       "          16,   360,    60,     0, 18720,   900,    53,    27, 17280,\n",
       "       21600,    30,    29,    28,    48, 15840,   240,    47,   720,\n",
       "          36], dtype=int64)"
      ]
     },
     "metadata": {},
     "execution_count": 26
    }
   ],
   "metadata": {}
  },
  {
   "cell_type": "markdown",
   "source": [
    "# Cleaned data"
   ],
   "metadata": {}
  },
  {
   "cell_type": "code",
   "execution_count": 27,
   "source": [
    "df_data.head()"
   ],
   "outputs": [
    {
     "output_type": "execute_result",
     "data": {
      "text/html": [
       "<div>\n",
       "<style scoped>\n",
       "    .dataframe tbody tr th:only-of-type {\n",
       "        vertical-align: middle;\n",
       "    }\n",
       "\n",
       "    .dataframe tbody tr th {\n",
       "        vertical-align: top;\n",
       "    }\n",
       "\n",
       "    .dataframe thead th {\n",
       "        text-align: right;\n",
       "    }\n",
       "</style>\n",
       "<table border=\"1\" class=\"dataframe\">\n",
       "  <thead>\n",
       "    <tr style=\"text-align: right;\">\n",
       "      <th></th>\n",
       "      <th>price</th>\n",
       "      <th>brand</th>\n",
       "      <th>model</th>\n",
       "      <th>year</th>\n",
       "      <th>title_status</th>\n",
       "      <th>mileage</th>\n",
       "      <th>color</th>\n",
       "      <th>vin</th>\n",
       "      <th>lot</th>\n",
       "      <th>state</th>\n",
       "      <th>country</th>\n",
       "      <th>condition</th>\n",
       "    </tr>\n",
       "  </thead>\n",
       "  <tbody>\n",
       "    <tr>\n",
       "      <th>0</th>\n",
       "      <td>6300</td>\n",
       "      <td>toyota</td>\n",
       "      <td>cruiser</td>\n",
       "      <td>2008</td>\n",
       "      <td>clean vehicle</td>\n",
       "      <td>274117.0</td>\n",
       "      <td>black</td>\n",
       "      <td>jtezu11f88k007763</td>\n",
       "      <td>159348797</td>\n",
       "      <td>new jersey</td>\n",
       "      <td>usa</td>\n",
       "      <td>14400</td>\n",
       "    </tr>\n",
       "    <tr>\n",
       "      <th>1</th>\n",
       "      <td>2899</td>\n",
       "      <td>ford</td>\n",
       "      <td>se</td>\n",
       "      <td>2011</td>\n",
       "      <td>clean vehicle</td>\n",
       "      <td>NaN</td>\n",
       "      <td>silver</td>\n",
       "      <td>2fmdk3gc4bbb02217</td>\n",
       "      <td>166951262</td>\n",
       "      <td>tennessee</td>\n",
       "      <td>usa</td>\n",
       "      <td>8640</td>\n",
       "    </tr>\n",
       "    <tr>\n",
       "      <th>2</th>\n",
       "      <td>5350</td>\n",
       "      <td>dodge</td>\n",
       "      <td>mpv</td>\n",
       "      <td>2018</td>\n",
       "      <td>clean vehicle</td>\n",
       "      <td>39590.0</td>\n",
       "      <td>silver</td>\n",
       "      <td>3c4pdcgg5jt346413</td>\n",
       "      <td>167655728</td>\n",
       "      <td>georgia</td>\n",
       "      <td>usa</td>\n",
       "      <td>2880</td>\n",
       "    </tr>\n",
       "    <tr>\n",
       "      <th>3</th>\n",
       "      <td>25000</td>\n",
       "      <td>ford</td>\n",
       "      <td>door</td>\n",
       "      <td>2014</td>\n",
       "      <td>clean vehicle</td>\n",
       "      <td>64146.0</td>\n",
       "      <td>blue</td>\n",
       "      <td>1ftfw1et4efc23745</td>\n",
       "      <td>167753855</td>\n",
       "      <td>virginia</td>\n",
       "      <td>usa</td>\n",
       "      <td>1320</td>\n",
       "    </tr>\n",
       "    <tr>\n",
       "      <th>4</th>\n",
       "      <td>27700</td>\n",
       "      <td>chevrolet</td>\n",
       "      <td>1500</td>\n",
       "      <td>2018</td>\n",
       "      <td>clean vehicle</td>\n",
       "      <td>6654.0</td>\n",
       "      <td>red</td>\n",
       "      <td>3gcpcrec2jg473991</td>\n",
       "      <td>167763266</td>\n",
       "      <td>florida</td>\n",
       "      <td>usa</td>\n",
       "      <td>1320</td>\n",
       "    </tr>\n",
       "  </tbody>\n",
       "</table>\n",
       "</div>"
      ],
      "text/plain": [
       "   price      brand    model  year   title_status   mileage   color  \\\n",
       "0   6300     toyota  cruiser  2008  clean vehicle  274117.0   black   \n",
       "1   2899       ford       se  2011  clean vehicle       NaN  silver   \n",
       "2   5350      dodge      mpv  2018  clean vehicle   39590.0  silver   \n",
       "3  25000       ford     door  2014  clean vehicle   64146.0    blue   \n",
       "4  27700  chevrolet     1500  2018  clean vehicle    6654.0     red   \n",
       "\n",
       "                 vin        lot       state country  condition  \n",
       "0  jtezu11f88k007763  159348797  new jersey     usa      14400  \n",
       "1  2fmdk3gc4bbb02217  166951262   tennessee     usa       8640  \n",
       "2  3c4pdcgg5jt346413  167655728     georgia     usa       2880  \n",
       "3  1ftfw1et4efc23745  167753855    virginia     usa       1320  \n",
       "4  3gcpcrec2jg473991  167763266     florida     usa       1320  "
      ]
     },
     "metadata": {},
     "execution_count": 27
    }
   ],
   "metadata": {}
  },
  {
   "cell_type": "code",
   "execution_count": 28,
   "source": [
    "df_data.info()"
   ],
   "outputs": [
    {
     "output_type": "stream",
     "name": "stdout",
     "text": [
      "<class 'pandas.core.frame.DataFrame'>\n",
      "RangeIndex: 2499 entries, 0 to 2498\n",
      "Data columns (total 12 columns):\n",
      "price           2499 non-null int32\n",
      "brand           2499 non-null object\n",
      "model           2499 non-null object\n",
      "year            2499 non-null int32\n",
      "title_status    2499 non-null object\n",
      "mileage         2309 non-null float64\n",
      "color           2499 non-null object\n",
      "vin             2499 non-null object\n",
      "lot             2499 non-null int32\n",
      "state           2499 non-null object\n",
      "country         2499 non-null object\n",
      "condition       2499 non-null int64\n",
      "dtypes: float64(1), int32(3), int64(1), object(7)\n",
      "memory usage: 205.1+ KB\n"
     ]
    }
   ],
   "metadata": {}
  },
  {
   "cell_type": "markdown",
   "source": [
    "## Convert to '.csv' and save the data."
   ],
   "metadata": {}
  },
  {
   "cell_type": "code",
   "execution_count": 29,
   "source": [
    "df_data.to_csv('cleaned_data.csv', index=False)"
   ],
   "outputs": [],
   "metadata": {}
  }
 ],
 "metadata": {
  "kernelspec": {
   "name": "python3",
   "display_name": "Python 3.6.8 64-bit ('datasci': conda)"
  },
  "language_info": {
   "codemirror_mode": {
    "name": "ipython",
    "version": 3
   },
   "file_extension": ".py",
   "mimetype": "text/x-python",
   "name": "python",
   "nbconvert_exporter": "python",
   "pygments_lexer": "ipython3",
   "version": "3.6.8"
  },
  "interpreter": {
   "hash": "f29300a667b8aaa90b5074e44a88bb2efc3c422711e52fff3b8fce677bbb563e"
  }
 },
 "nbformat": 4,
 "nbformat_minor": 2
}